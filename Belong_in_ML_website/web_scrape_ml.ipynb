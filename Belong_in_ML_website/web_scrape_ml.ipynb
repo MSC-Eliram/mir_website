{
 "cells": [
  {
   "cell_type": "code",
   "execution_count": null,
   "metadata": {},
   "outputs": [],
   "source": [
    "#pip install splinter"
   ]
  },
  {
   "cell_type": "code",
   "execution_count": 1,
   "metadata": {
    "scrolled": true
   },
   "outputs": [],
   "source": [
    "# dependencies\n",
    "\n",
    "from bs4 import BeautifulSoup\n",
    "import pandas as pd\n",
    "import requests\n",
    "#import pymongo\n",
    "from splinter.exceptions import ElementDoesNotExist\n",
    "from splinter import Browser\n",
    "#import time\n",
    "import prettify"
   ]
  },
  {
   "cell_type": "code",
   "execution_count": 2,
   "metadata": {},
   "outputs": [],
   "source": [
    "import os\n",
    "from selenium import webdriver"
   ]
  },
  {
   "cell_type": "code",
   "execution_count": 3,
   "metadata": {},
   "outputs": [],
   "source": [
    "PROJECT_ROOT = os.path.dirname(os.path.realpath('__file__'))\n",
    "DRIVER_BIN = os.path.join(PROJECT_ROOT, \"C:/bin/chromedriver\")\n",
    "\n",
    "browser = webdriver.Chrome(executable_path = DRIVER_BIN)\n",
    "browser.get(\"https://mirlogic.bamboohr.com/jobs/\")"
   ]
  },
  {
   "cell_type": "code",
   "execution_count": 4,
   "metadata": {},
   "outputs": [],
   "source": [
    "# Set up for Splinter\n",
    "#driver = webdriver.Chrome(r\"C:/bin/chromedriver.exe\")\n",
    "executable_path = {'executable_path': 'C:/bin/chromedriver'}\n",
    "browser = Browser('chrome', **executable_path, headless=False)"
   ]
  },
  {
   "cell_type": "code",
   "execution_count": 7,
   "metadata": {
    "scrolled": true
   },
   "outputs": [
    {
     "name": "stdout",
     "output_type": "stream",
     "text": [
      "<div class=\"row\" itemscope=\"\" itemtype=\"http://schema.org/JobPosting\">\n",
      " <div class=\"col-xs-12 col-md-6\">\n",
      "  <a class=\"ResAts__listing-link\" href=\"view.php?id=34&amp;source=other\">\n",
      "   Public Relations Specialist\n",
      "  </a>\n",
      "  <meta content=\"http://mirlogic.bamboohr.com/jobs/view.php?id=34&amp;source=other\" itemprop=\"url\"/>\n",
      " </div>\n",
      " <div class=\"col-xs-6 col-sm-4 col-md-3 ResAts__listing-section\">\n",
      "  <ba-icon class=\"ResAts__listing-sectionIcon\" name=\"fab-location-11x14\">\n",
      "   <svg class=\"css-7qw58u-Icon\" focusable=\"false\" height=\"14\" pointer-events=\"none\" width=\"11\">\n",
      "    <use xlink:href=\"/images/fabric.65380c57.dist.svg#fab-location-11x14\">\n",
      "    </use>\n",
      "   </svg>\n",
      "  </ba-icon>\n",
      "  <div class=\"ResAts__listing-sectionWrapper\" style=\"width: calc(100% - 27px);\">\n",
      "   <div itemprop=\"jobLocation\" itemscope=\"\" itemtype=\"http://schema.org/Place\">\n",
      "    <div class=\"AtsLead truncate\" itemprop=\"name\">\n",
      "     Washington\n",
      "    </div>\n",
      "    <div>\n",
      "     District of Columbia\n",
      "    </div>\n",
      "   </div>\n",
      "  </div>\n",
      " </div>\n",
      " <div class=\"col-xs-6 col-sm-4 col-md-3 ResAts__listing-section\">\n",
      "  <ba-icon class=\"ResAts__listing-sectionIcon\" name=\"fab-employees-16x14\">\n",
      "   <svg class=\"css-7qw58u-Icon\" focusable=\"false\" height=\"14\" pointer-events=\"none\" width=\"16\">\n",
      "    <use xlink:href=\"/images/fabric.65380c57.dist.svg#fab-employees-16x14\">\n",
      "    </use>\n",
      "   </svg>\n",
      "  </ba-icon>\n",
      "  <div class=\"ResAts__listing-sectionWrapper\" style=\"width: calc(100% - 35px);\">\n",
      "   <div class=\"AtsLead\">\n",
      "    Contractor\n",
      "   </div>\n",
      "   <div itemprop=\"employmentType\">\n",
      "    Full-Time\n",
      "   </div>\n",
      "  </div>\n",
      " </div>\n",
      "</div>\n",
      "\n"
     ]
    }
   ],
   "source": [
    "# Pull Back most basic info from our page\n",
    "url_1 = \"https://mirlogic.bamboohr.com/jobs/\"\n",
    "\n",
    "browser.visit(url_1)\n",
    "html = browser.html\n",
    "soup = BeautifulSoup(html, 'html.parser')\n",
    "\n",
    "job_info = soup.findAll('div', itemtype='http://schema.org/JobPosting')\n",
    "\n",
    "print(job_info[0].prettify())\n",
    "\n",
    "# for x in job_info:\n",
    "#     print(x.prettify())"
   ]
  },
  {
   "cell_type": "code",
   "execution_count": 45,
   "metadata": {},
   "outputs": [
    {
     "name": "stdout",
     "output_type": "stream",
     "text": [
      "[{'LISTING': 'Public Relations Specialist', 'LINK': 'http://mirlogic.bamboohr.com/jobs/view.php?id=34&source=other', 'PLACE_1': 'Washington', 'PLACE_2': 'District of Columbia', 'TYPE_1': 'Contractor', 'TYPE_2': 'Full-Time'}, {'LISTING': 'Senior Architect', 'LINK': 'http://mirlogic.bamboohr.com/jobs/view.php?id=30&source=other', 'PLACE_1': 'Washington ', 'PLACE_2': 'District of Columbia', 'TYPE_1': 'Contractor', 'TYPE_2': 'Full-Time'}, {'LISTING': 'Senior/Mid-Level Network Engineer', 'LINK': 'http://mirlogic.bamboohr.com/jobs/view.php?id=32&source=other', 'PLACE_1': 'Washington ', 'PLACE_2': 'District of Columbia', 'TYPE_1': 'Corporate', 'TYPE_2': 'Full-Time'}, {'LISTING': 'Technical Recruiter', 'LINK': 'http://mirlogic.bamboohr.com/jobs/view.php?id=33&source=other', 'PLACE_1': 'Alexandria', 'PLACE_2': 'Virginia', 'TYPE_1': 'Corporate', 'TYPE_2': 'Full-Time'}]\n"
     ]
    }
   ],
   "source": [
    "all_list_objects = []\n",
    "for jobber in job_info:\n",
    "    listing_object = {}\n",
    "\n",
    "    #LISTING NAME\n",
    "    listing_object[\"LISTING\"] = jobber.a.string.strip()\n",
    "\n",
    "    #LINK\n",
    "    listing_object[\"LINK\"] = jobber.meta[\"content\"]\n",
    "\n",
    "    wrap_sections = jobber.findAll(class_=\"ResAts__listing-sectionWrapper\")\n",
    "\n",
    "    #PLACE 1 PLACE 2\n",
    "    x = 1\n",
    "    for div in wrap_sections[0].div.children:\n",
    "        if (div.string != ' '):\n",
    "            listing_object[\"PLACE_\" + str(x)] = div.string\n",
    "            x += 1\n",
    "\n",
    "    #TYPE 1 TYPE 2\n",
    "    y = 1\n",
    "    for div in wrap_sections[1]:\n",
    "        if (div.string != \" \" and div.string != None):\n",
    "            listing_object[\"TYPE_\" + str(y)] = div.string.strip()\n",
    "            y += 1\n",
    "\n",
    "    all_list_objects.append(listing_object)\n",
    "    \n",
    "print(all_list_objects)"
   ]
  },
  {
   "cell_type": "markdown",
   "metadata": {},
   "source": [
    "### The rest is just code we worked with, but not necessary"
   ]
  },
  {
   "cell_type": "code",
   "execution_count": null,
   "metadata": {},
   "outputs": [],
   "source": [
    "\n",
    "\n",
    "#print(job_info[0].div.div.text)\n",
    "\n",
    "# print(job_info)\n",
    "#print(job_info[0])\n",
    "texts = job_info[0].find_all('div')\n",
    "print(texts)\n",
    "#print(texts[3].text)\n",
    "# print(texts[4].text)"
   ]
  },
  {
   "cell_type": "code",
   "execution_count": null,
   "metadata": {},
   "outputs": [],
   "source": [
    "place1 = job_info[0].div\n",
    "print(place1.prettify())\n",
    "\n",
    "all_my_children = []\n",
    "\n",
    "for div in place1.children:\n",
    "    if (div.string != ' '):\n",
    "        all_my_children.append(div.string)\n",
    "\n",
    "print(all_my_children)\n",
    "\n",
    "# print(job_title)\n",
    "# print(location)\n",
    "# print(location2)\n",
    "# print(job_type)\n",
    "#print(job_info[0].prettify())"
   ]
  },
  {
   "cell_type": "code",
   "execution_count": null,
   "metadata": {},
   "outputs": [],
   "source": [
    "this_place = []\n",
    "#print(job_info[0])\n",
    "for place in job_info:\n",
    "    #print(place)\n",
    "    for div in place:\n",
    "        if (div.string != \" \" and div.string != None):\n",
    "            this_place.append(div.string.strip())\n",
    "            \n",
    "print(this_place)"
   ]
  },
  {
   "cell_type": "code",
   "execution_count": null,
   "metadata": {},
   "outputs": [],
   "source": [
    "for x in job_info:\n",
    "    print(x.prettify())"
   ]
  },
  {
   "cell_type": "code",
   "execution_count": null,
   "metadata": {},
   "outputs": [],
   "source": [
    "listing_title = []\n",
    "listing_info = soup.findAll('a', class_='ResAts__listing-link')\n",
    "print(listing_info)\n",
    "for x in listing_info:\n",
    "    listing_title.append(x.string.strip())\n",
    "    \n",
    "print(listing_title)"
   ]
  },
  {
   "cell_type": "code",
   "execution_count": null,
   "metadata": {},
   "outputs": [],
   "source": []
  }
 ],
 "metadata": {
  "kernelspec": {
   "display_name": "Python 3",
   "language": "python",
   "name": "python3"
  },
  "language_info": {
   "codemirror_mode": {
    "name": "ipython",
    "version": 3
   },
   "file_extension": ".py",
   "mimetype": "text/x-python",
   "name": "python",
   "nbconvert_exporter": "python",
   "pygments_lexer": "ipython3",
   "version": "3.8.3"
  }
 },
 "nbformat": 4,
 "nbformat_minor": 4
}
